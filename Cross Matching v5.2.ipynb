{
 "cells": [
  {
   "cell_type": "code",
   "execution_count": 1,
   "metadata": {},
   "outputs": [],
   "source": [
    "import numpy as np\n",
    "\n",
    "from astropy import units as u\n",
    "from astropy.table import Table\n",
    "from astropy.time import Time\n",
    "from astropy.coordinates import SkyCoord"
   ]
  },
  {
   "cell_type": "code",
   "execution_count": 2,
   "metadata": {
    "scrolled": true
   },
   "outputs": [
    {
     "data": {
      "text/html": [
       "<i>Table length=35802</i>\n",
       "<table id=\"table140670279837584\" class=\"table-striped table-bordered table-condensed\">\n",
       "<thead><tr><th>field_id</th><th>night</th><th>camera_id</th><th>start_time</th><th>end_time</th><th>n_image</th><th>ra_centre</th><th>dec_centre</th></tr></thead>\n",
       "<thead><tr><th>str12</th><th>str10</th><th>int64</th><th>str19</th><th>str19</th><th>int64</th><th>float64</th><th>float64</th></tr></thead>\n",
       "<tr><td>NG1928+0007</td><td>2014-07-25</td><td>803</td><td>2014-07-26T04:14:51</td><td>2014-07-26T04:48:19</td><td>160</td><td>292.054166666667</td><td>0.121666666666667</td></tr>\n",
       "<tr><td>NG2312-2240</td><td>2014-07-26</td><td>803</td><td>2014-07-27T03:20:13</td><td>2014-07-27T06:01:20</td><td>418</td><td>348.158333333333</td><td>-22.6738888888889</td></tr>\n",
       "<tr><td>NG1928+0007</td><td>2014-08-31</td><td>803</td><td>2014-09-01T00:11:02</td><td>2014-09-01T01:13:18</td><td>288</td><td>292.054166666667</td><td>0.121666666666667</td></tr>\n",
       "<tr><td>NG0137-4540</td><td>2014-08-31</td><td>803</td><td>2014-09-01T01:34:32</td><td>2014-09-01T02:01:18</td><td>128</td><td>24.3541666666667</td><td>-45.6777777777778</td></tr>\n",
       "<tr><td>NG0137-4540</td><td>2014-08-31</td><td>803</td><td>2014-09-01T03:08:55</td><td>2014-09-01T10:03:16</td><td>1977</td><td>24.3541666666667</td><td>-45.6777777777778</td></tr>\n",
       "<tr><td>NG2312-2240</td><td>2014-09-03</td><td>803</td><td>2014-09-04T01:22:12</td><td>2014-09-04T03:12:40</td><td>529</td><td>348.158333333333</td><td>-22.6738888888889</td></tr>\n",
       "<tr><td>NG2312-2240</td><td>2014-09-03</td><td>803</td><td>2014-09-04T05:37:35</td><td>2014-09-04T06:34:02</td><td>271</td><td>348.158333333333</td><td>-22.6738888888889</td></tr>\n",
       "<tr><td>NG2312-2240</td><td>2014-09-03</td><td>803</td><td>2014-09-04T06:41:44</td><td>2014-09-04T08:35:35</td><td>547</td><td>348.158333333333</td><td>-22.6738888888889</td></tr>\n",
       "<tr><td>NG2312-2240</td><td>2014-09-04</td><td>803</td><td>2014-09-05T01:13:16</td><td>2014-09-05T04:39:50</td><td>995</td><td>348.158333333333</td><td>-22.6738888888889</td></tr>\n",
       "<tr><td>NG2312-2240</td><td>2014-09-04</td><td>803</td><td>2014-09-05T05:05:38</td><td>2014-09-05T07:03:01</td><td>565</td><td>348.158333333333</td><td>-22.6738888888889</td></tr>\n",
       "<tr><td>...</td><td>...</td><td>...</td><td>...</td><td>...</td><td>...</td><td>...</td><td>...</td></tr>\n",
       "<tr><td>NG1253-3944</td><td>2022-05-04</td><td>808</td><td>2022-05-04T23:16:42</td><td>2022-05-05T07:51:44</td><td>2410</td><td>193.333333333333</td><td>-39.7347222222222</td></tr>\n",
       "<tr><td>NG0841-5259</td><td>2022-05-04</td><td>809</td><td>2022-05-04T23:16:42</td><td>2022-05-05T03:19:54</td><td>1135</td><td>130.291666666667</td><td>-52.9911111111111</td></tr>\n",
       "<tr><td>NG1143+0633</td><td>2022-05-04</td><td>809</td><td>2022-05-05T03:20:42</td><td>2022-05-05T05:04:55</td><td>486</td><td>175.908333333333</td><td>6.56361111111111</td></tr>\n",
       "<tr><td>NG1341-4637</td><td>2022-05-04</td><td>809</td><td>2022-05-05T05:05:42</td><td>2022-05-05T06:08:51</td><td>293</td><td>205.358333333333</td><td>-46.6313888888889</td></tr>\n",
       "<tr><td>NG2102-4244</td><td>2022-05-04</td><td>809</td><td>2022-05-05T06:09:42</td><td>2022-05-05T07:54:17</td><td>487</td><td>315.6875</td><td>-42.7352777777778</td></tr>\n",
       "<tr><td>NG1042-6425</td><td>2022-05-04</td><td>810</td><td>2022-05-04T23:16:42</td><td>2022-05-05T05:18:55</td><td>1684</td><td>160.6125</td><td>-64.4261111111111</td></tr>\n",
       "<tr><td>NG1942-4905</td><td>2022-05-04</td><td>810</td><td>2022-05-05T05:19:42</td><td>2022-05-05T07:54:22</td><td>716</td><td>295.6875</td><td>-49.085</td></tr>\n",
       "<tr><td>NG0547-0421</td><td>2022-05-04</td><td>811</td><td>2022-05-04T23:16:42</td><td>2022-05-04T23:55:55</td><td>179</td><td>86.8375</td><td>-4.35361111111111</td></tr>\n",
       "<tr><td>NG1348-5425</td><td>2022-05-04</td><td>811</td><td>2022-05-04T23:56:42</td><td>2022-05-05T07:54:19</td><td>2232</td><td>207.0625</td><td>-54.4205555555556</td></tr>\n",
       "<tr><td>NG1106-5444</td><td>2022-05-04</td><td>806</td><td>2022-05-04T23:46:51</td><td>2022-05-05T06:14:55</td><td>1812</td><td>166.729166666667</td><td>-54.7388888888889</td></tr>\n",
       "</table>"
      ],
      "text/plain": [
       "<Table length=35802>\n",
       "  field_id    night    camera_id ... n_image    ra_centre         dec_centre   \n",
       "   str12      str10      int64   ...  int64      float64           float64     \n",
       "----------- ---------- --------- ... ------- ---------------- -----------------\n",
       "NG1928+0007 2014-07-25       803 ...     160 292.054166666667 0.121666666666667\n",
       "NG2312-2240 2014-07-26       803 ...     418 348.158333333333 -22.6738888888889\n",
       "NG1928+0007 2014-08-31       803 ...     288 292.054166666667 0.121666666666667\n",
       "NG0137-4540 2014-08-31       803 ...     128 24.3541666666667 -45.6777777777778\n",
       "NG0137-4540 2014-08-31       803 ...    1977 24.3541666666667 -45.6777777777778\n",
       "NG2312-2240 2014-09-03       803 ...     529 348.158333333333 -22.6738888888889\n",
       "NG2312-2240 2014-09-03       803 ...     271 348.158333333333 -22.6738888888889\n",
       "NG2312-2240 2014-09-03       803 ...     547 348.158333333333 -22.6738888888889\n",
       "NG2312-2240 2014-09-04       803 ...     995 348.158333333333 -22.6738888888889\n",
       "NG2312-2240 2014-09-04       803 ...     565 348.158333333333 -22.6738888888889\n",
       "        ...        ...       ... ...     ...              ...               ...\n",
       "NG1253-3944 2022-05-04       808 ...    2410 193.333333333333 -39.7347222222222\n",
       "NG0841-5259 2022-05-04       809 ...    1135 130.291666666667 -52.9911111111111\n",
       "NG1143+0633 2022-05-04       809 ...     486 175.908333333333  6.56361111111111\n",
       "NG1341-4637 2022-05-04       809 ...     293 205.358333333333 -46.6313888888889\n",
       "NG2102-4244 2022-05-04       809 ...     487         315.6875 -42.7352777777778\n",
       "NG1042-6425 2022-05-04       810 ...    1684         160.6125 -64.4261111111111\n",
       "NG1942-4905 2022-05-04       810 ...     716         295.6875           -49.085\n",
       "NG0547-0421 2022-05-04       811 ...     179          86.8375 -4.35361111111111\n",
       "NG1348-5425 2022-05-04       811 ...    2232         207.0625 -54.4205555555556\n",
       "NG1106-5444 2022-05-04       806 ...    1812 166.729166666667 -54.7388888888889"
      ]
     },
     "execution_count": 2,
     "metadata": {},
     "output_type": "execute_result"
    }
   ],
   "source": [
    "NGTS_images = Table.read(\"ngts_observing_log.txt\", format=\"ascii.tab\")\n",
    "NGTS_images"
   ]
  },
  {
   "cell_type": "code",
   "execution_count": 3,
   "metadata": {
    "scrolled": true
   },
   "outputs": [
    {
     "data": {
      "text/html": [
       "<i>Table masked=True length=105132</i>\n",
       "<table id=\"table140670297466256\" class=\"table-striped table-bordered table-condensed\">\n",
       "<thead><tr><th>objid</th><th>name_prefix</th><th>name</th><th>ra</th><th>declination</th><th>redshift</th><th>typeid</th><th>type</th><th>reporting_groupid</th><th>reporting_group</th><th>source_groupid</th><th>source_group</th><th>discoverydate</th><th>discoverymag</th><th>discmagfilter</th><th>filter</th><th>reporters</th><th>time_received</th><th>internal_names</th><th>creationdate</th><th>lastmodified</th></tr></thead>\n",
       "<thead><tr><th>int64</th><th>str3</th><th>str9</th><th>float64</th><th>float64</th><th>float64</th><th>int64</th><th>str17</th><th>int64</th><th>str24</th><th>int64</th><th>str24</th><th>str23</th><th>float64</th><th>int64</th><th>str6</th><th>str1640</th><th>str19</th><th>str181</th><th>str19</th><th>str19</th></tr></thead>\n",
       "<tr><td>117984</td><td>AT</td><td>2022xkd</td><td>324.527583</td><td>32.328369</td><td>--</td><td>--</td><td>--</td><td>24</td><td>GaiaAlerts</td><td>24</td><td>GaiaAlerts</td><td>2022-10-04 12:20:09.600</td><td>17.29</td><td>75</td><td>G</td><td>S.T. Hodgkin, E. Breedt, A. Delgado, D.L. Harrison, M. van Leeuwen, G. Rixon, T. Wevers, A. Yoldas (IoA Cambridge), N. Ihanec, K. Kruszyńska, K.A. Rybicki, Ł. Wyrzykowski (Warsaw University Astronomical Observatory), Z. Kostrzewa-Rutkowska (Leiden Observatory), D. Eappachen (SRON/RU), G. Marton (Konkoly Observatory), on behalf of the Gaia Alerts team</td><td>2022-10-12 23:08:30</td><td>Gaia22eer</td><td>2022-10-12 23:08:31</td><td>2022-10-12 23:08:31</td></tr>\n",
       "<tr><td>117983</td><td>AT</td><td>2022xkc</td><td>239.355292</td><td>-44.6073</td><td>--</td><td>--</td><td>--</td><td>24</td><td>GaiaAlerts</td><td>24</td><td>GaiaAlerts</td><td>2022-10-04 18:08:38.400</td><td>16.35</td><td>75</td><td>G</td><td>S.T. Hodgkin, E. Breedt, A. Delgado, D.L. Harrison, M. van Leeuwen, G. Rixon, T. Wevers, A. Yoldas (IoA Cambridge), N. Ihanec, K. Kruszyńska, K.A. Rybicki, Ł. Wyrzykowski (Warsaw University Astronomical Observatory), Z. Kostrzewa-Rutkowska (Leiden Observatory), D. Eappachen (SRON/RU), G. Marton (Konkoly Observatory), on behalf of the Gaia Alerts team</td><td>2022-10-12 23:08:13</td><td>Gaia22eep</td><td>2022-10-12 23:08:13</td><td>2022-10-12 23:08:13</td></tr>\n",
       "<tr><td>117982</td><td>AT</td><td>2022xkb</td><td>264.812417</td><td>-27.373081</td><td>--</td><td>--</td><td>--</td><td>24</td><td>GaiaAlerts</td><td>24</td><td>GaiaAlerts</td><td>2022-10-05 06:37:26.400</td><td>16.71</td><td>75</td><td>G</td><td>S.T. Hodgkin, E. Breedt, A. Delgado, D.L. Harrison, M. van Leeuwen, G. Rixon, T. Wevers, A. Yoldas (IoA Cambridge), N. Ihanec, K. Kruszyńska, K.A. Rybicki, Ł. Wyrzykowski (Warsaw University Astronomical Observatory), Z. Kostrzewa-Rutkowska (Leiden Observatory), D. Eappachen (SRON/RU), G. Marton (Konkoly Observatory), on behalf of the Gaia Alerts team</td><td>2022-10-12 23:08:02</td><td>Gaia22eeo</td><td>2022-10-12 23:08:03</td><td>2022-10-12 23:08:03</td></tr>\n",
       "<tr><td>117981</td><td>AT</td><td>2022xka</td><td>255.777833</td><td>-33.520369</td><td>--</td><td>--</td><td>--</td><td>24</td><td>GaiaAlerts</td><td>24</td><td>GaiaAlerts</td><td>2022-10-05 12:27:21.600</td><td>18.37</td><td>75</td><td>G</td><td>S.T. Hodgkin, E. Breedt, A. Delgado, D.L. Harrison, M. van Leeuwen, G. Rixon, T. Wevers, A. Yoldas (IoA Cambridge), N. Ihanec, K. Kruszyńska, K.A. Rybicki, Ł. Wyrzykowski (Warsaw University Astronomical Observatory), Z. Kostrzewa-Rutkowska (Leiden Observatory), D. Eappachen (SRON/RU), G. Marton (Konkoly Observatory), on behalf of the Gaia Alerts team</td><td>2022-10-12 23:07:53</td><td>Gaia22een</td><td>2022-10-12 23:07:54</td><td>2022-10-12 23:07:54</td></tr>\n",
       "<tr><td>117980</td><td>AT</td><td>2022xjz</td><td>297.603458</td><td>5.236039</td><td>--</td><td>--</td><td>--</td><td>24</td><td>GaiaAlerts</td><td>24</td><td>GaiaAlerts</td><td>2022-10-04 17:41:16.800</td><td>17.4</td><td>75</td><td>G</td><td>S.T. Hodgkin, E. Breedt, A. Delgado, D.L. Harrison, M. van Leeuwen, G. Rixon, T. Wevers, A. Yoldas (IoA Cambridge), N. Ihanec, K. Kruszyńska, K.A. Rybicki, Ł. Wyrzykowski (Warsaw University Astronomical Observatory), Z. Kostrzewa-Rutkowska (Leiden Observatory), D. Eappachen (SRON/RU), G. Marton (Konkoly Observatory), on behalf of the Gaia Alerts team</td><td>2022-10-12 23:07:47</td><td>Gaia22eem</td><td>2022-10-12 23:07:49</td><td>2022-10-12 23:07:49</td></tr>\n",
       "<tr><td>117979</td><td>AT</td><td>2022xjy</td><td>231.990917</td><td>-45.996939</td><td>--</td><td>--</td><td>--</td><td>24</td><td>GaiaAlerts</td><td>24</td><td>GaiaAlerts</td><td>2022-10-05 06:02:52.800</td><td>17.95</td><td>75</td><td>G</td><td>S.T. Hodgkin, E. Breedt, A. Delgado, D.L. Harrison, M. van Leeuwen, G. Rixon, T. Wevers, A. Yoldas (IoA Cambridge), N. Ihanec, K. Kruszyńska, K.A. Rybicki, Ł. Wyrzykowski (Warsaw University Astronomical Observatory), Z. Kostrzewa-Rutkowska (Leiden Observatory), D. Eappachen (SRON/RU), G. Marton (Konkoly Observatory), on behalf of the Gaia Alerts team</td><td>2022-10-12 23:07:32</td><td>Gaia22eel</td><td>2022-10-12 23:07:33</td><td>2022-10-12 23:07:33</td></tr>\n",
       "<tr><td>117978</td><td>AT</td><td>2022xjx</td><td>271.5755</td><td>-24.05495</td><td>--</td><td>--</td><td>--</td><td>24</td><td>GaiaAlerts</td><td>24</td><td>GaiaAlerts</td><td>2022-10-04 18:44:38.400</td><td>16.33</td><td>75</td><td>G</td><td>S.T. Hodgkin, E. Breedt, A. Delgado, D.L. Harrison, M. van Leeuwen, G. Rixon, T. Wevers, A. Yoldas (IoA Cambridge), N. Ihanec, K. Kruszyńska, K.A. Rybicki, Ł. Wyrzykowski (Warsaw University Astronomical Observatory), Z. Kostrzewa-Rutkowska (Leiden Observatory), D. Eappachen (SRON/RU), G. Marton (Konkoly Observatory), on behalf of the Gaia Alerts team</td><td>2022-10-12 23:07:19</td><td>Gaia22eek</td><td>2022-10-12 23:07:20</td><td>2022-10-12 23:07:20</td></tr>\n",
       "<tr><td>117977</td><td>AT</td><td>2022xjw</td><td>207.251708</td><td>-50.750039</td><td>--</td><td>--</td><td>--</td><td>24</td><td>GaiaAlerts</td><td>24</td><td>GaiaAlerts</td><td>2022-10-04 17:45:36.000</td><td>18.71</td><td>75</td><td>G</td><td>S.T. Hodgkin, E. Breedt, A. Delgado, D.L. Harrison, M. van Leeuwen, G. Rixon, T. Wevers, A. Yoldas (IoA Cambridge), N. Ihanec, K. Kruszyńska, K.A. Rybicki, Ł. Wyrzykowski (Warsaw University Astronomical Observatory), Z. Kostrzewa-Rutkowska (Leiden Observatory), D. Eappachen (SRON/RU), G. Marton (Konkoly Observatory), on behalf of the Gaia Alerts team</td><td>2022-10-12 23:07:05</td><td>Gaia22eei</td><td>2022-10-12 23:07:06</td><td>2022-10-12 23:07:06</td></tr>\n",
       "<tr><td>117976</td><td>AT</td><td>2022xjv</td><td>224.615167</td><td>-48.789031</td><td>--</td><td>--</td><td>--</td><td>24</td><td>GaiaAlerts</td><td>24</td><td>GaiaAlerts</td><td>2022-10-04 17:57:07.200</td><td>18.37</td><td>75</td><td>G</td><td>S.T. Hodgkin, E. Breedt, A. Delgado, D.L. Harrison, M. van Leeuwen, G. Rixon, T. Wevers, A. Yoldas (IoA Cambridge), N. Ihanec, K. Kruszyńska, K.A. Rybicki, Ł. Wyrzykowski (Warsaw University Astronomical Observatory), Z. Kostrzewa-Rutkowska (Leiden Observatory), D. Eappachen (SRON/RU), G. Marton (Konkoly Observatory), on behalf of the Gaia Alerts team</td><td>2022-10-12 23:07:00</td><td>Gaia22eeh</td><td>2022-10-12 23:07:01</td><td>2022-10-12 23:07:01</td></tr>\n",
       "<tr><td>117975</td><td>AT</td><td>2022xju</td><td>284.076458</td><td>-13.1079</td><td>--</td><td>--</td><td>--</td><td>24</td><td>GaiaAlerts</td><td>24</td><td>GaiaAlerts</td><td>2022-10-04 11:15:21.600</td><td>17.77</td><td>75</td><td>G</td><td>S.T. Hodgkin, E. Breedt, A. Delgado, D.L. Harrison, M. van Leeuwen, G. Rixon, T. Wevers, A. Yoldas (IoA Cambridge), N. Ihanec, K. Kruszyńska, K.A. Rybicki, Ł. Wyrzykowski (Warsaw University Astronomical Observatory), Z. Kostrzewa-Rutkowska (Leiden Observatory), D. Eappachen (SRON/RU), G. Marton (Konkoly Observatory), on behalf of the Gaia Alerts team</td><td>2022-10-12 23:06:46</td><td>Gaia22eeg</td><td>2022-10-12 23:06:47</td><td>2022-10-12 23:06:47</td></tr>\n",
       "<tr><td>...</td><td>...</td><td>...</td><td>...</td><td>...</td><td>...</td><td>...</td><td>...</td><td>...</td><td>...</td><td>...</td><td>...</td><td>...</td><td>...</td><td>...</td><td>...</td><td>...</td><td>...</td><td>...</td><td>...</td><td>...</td></tr>\n",
       "<tr><td>6523</td><td>SN</td><td>2015an</td><td>126.062917</td><td>-18.774583</td><td>--</td><td>11</td><td>SN IIP</td><td>--</td><td>--</td><td>--</td><td>--</td><td>2015-09-13 00:00:00.000</td><td>15.2</td><td>--</td><td>--</td><td>A. Delgado, D. Harrison, S. Hodgkin, M. van Leeuwen, G. Rixon, A. Yoldas (University of Cambridge), on behalf of Gaia Alerts team</td><td>2016-07-22 11:17:56</td><td>Gaia16ajd</td><td>2015-12-31 10:59:55</td><td>2015-12-31 10:59:55</td></tr>\n",
       "<tr><td>6469</td><td>SN</td><td>2014dr</td><td>50.69329</td><td>0.15575</td><td>--</td><td>10</td><td>SN II</td><td>--</td><td>--</td><td>--</td><td>--</td><td>2014-10-14 00:00:00.000</td><td>16.6</td><td>--</td><td>--</td><td>Howerton, Drake et al.</td><td>2021-02-16 14:03:56</td><td>--</td><td>2015-12-31 10:59:55</td><td>2015-12-31 10:59:55</td></tr>\n",
       "<tr><td>6436</td><td>SN</td><td>2014cl</td><td>34.03792</td><td>-11.93406</td><td>--</td><td>14</td><td>SN IIb</td><td>--</td><td>--</td><td>--</td><td>--</td><td>2014-06-16 00:00:00.000</td><td>17.5</td><td>--</td><td>--</td><td>Gonzalez, Pignata et al. (CHASE)</td><td>2021-03-01 09:23:50</td><td>--</td><td>2015-12-31 10:59:55</td><td>2015-12-31 10:59:55</td></tr>\n",
       "<tr><td>6403</td><td>SN</td><td>2014bf</td><td>239.39679</td><td>18.02989</td><td>--</td><td>11</td><td>SN IIP</td><td>--</td><td>--</td><td>--</td><td>--</td><td>2014-05-22 00:00:00.000</td><td>17.4</td><td>--</td><td>--</td><td>J. Mo et al.</td><td>2021-02-18 12:28:15</td><td>--</td><td>2015-12-31 10:59:55</td><td>2015-12-31 10:59:55</td></tr>\n",
       "<tr><td>6336</td><td>SN</td><td>2013hj</td><td>138.02621</td><td>-15.42944</td><td>--</td><td>10</td><td>SN II</td><td>--</td><td>--</td><td>--</td><td>--</td><td>2013-12-12 00:00:00.000</td><td>14.0</td><td>--</td><td>--</td><td>Antezana, Pignata et al.</td><td>2021-02-20 10:34:14</td><td>--</td><td>2015-12-31 10:59:55</td><td>2015-12-31 10:59:55</td></tr>\n",
       "<tr><td>6309</td><td>SN</td><td>2013gj</td><td>40.29167</td><td>-21.02478</td><td>--</td><td>10</td><td>SN II</td><td>--</td><td>--</td><td>--</td><td>--</td><td>2013-11-10 00:00:00.000</td><td>17.5</td><td>--</td><td>--</td><td>A.J. Drake et al.</td><td>2021-02-17 11:24:00</td><td>--</td><td>2015-12-31 10:59:55</td><td>2015-12-31 10:59:55</td></tr>\n",
       "<tr><td>6201</td><td>SN</td><td>2013cj</td><td>256.22063</td><td>12.91956</td><td>--</td><td>13</td><td>SN IIn</td><td>--</td><td>--</td><td>--</td><td>--</td><td>2013-05-09 00:00:00.000</td><td>18.1</td><td>--</td><td>--</td><td>Jin, Z.; Gao, X.; Xingming Sky Survey</td><td>2021-03-04 11:18:11</td><td>--</td><td>2015-12-31 10:59:55</td><td>2015-12-31 10:59:55</td></tr>\n",
       "<tr><td>6196</td><td>SN</td><td>2013ce</td><td>173.96167</td><td>34.28408</td><td>--</td><td>11</td><td>SN IIP</td><td>--</td><td>--</td><td>--</td><td>--</td><td>2013-05-01 00:00:00.000</td><td>17.3</td><td>--</td><td>--</td><td>iPTF</td><td>2017-09-08 16:23:17</td><td>iPTF13ce</td><td>2015-12-31 10:59:55</td><td>2015-12-31 10:59:55</td></tr>\n",
       "<tr><td>6158</td><td>SN</td><td>2013at</td><td>282.54704</td><td>30.34986</td><td>--</td><td>11</td><td>SN IIP</td><td>--</td><td>--</td><td>--</td><td>--</td><td>2013-03-19 00:00:00.000</td><td>16.9</td><td>--</td><td>--</td><td>S. Shurpakov</td><td>2021-03-11 10:43:52</td><td>--</td><td>2015-12-31 10:59:55</td><td>2015-12-31 10:59:55</td></tr>\n",
       "<tr><td>3962</td><td>SN</td><td>2006sa</td><td>31.3122283948</td><td>-4.81438144726</td><td>--</td><td>11</td><td>SN IIP</td><td>--</td><td>--</td><td>--</td><td>--</td><td>2006-11-12 00:00:00.000</td><td>21.0</td><td>--</td><td>--</td><td>K. C. Chambers, M. E. Huber, H. Flewelling, E. A. Magnier, N. Primak, A. Schultz, (IfA, University of Hawaii), S. J. Smartt, K. W. Smith, (Queen&apos;s University Belfast), J. Tonry, C. Waters, (IfA, University of Hawaii) D. E. Wright, D. R. Young (Queen&apos;s University Belfast)</td><td>2016-09-29 00:22:06</td><td>PS16elh</td><td>2015-12-31 10:59:55</td><td>2015-12-31 10:59:55</td></tr>\n",
       "</table>"
      ],
      "text/plain": [
       "<Table masked=True length=105132>\n",
       "objid  name_prefix   name  ...     creationdate        lastmodified   \n",
       "int64      str3      str9  ...        str19               str19       \n",
       "------ ----------- ------- ... ------------------- -------------------\n",
       "117984          AT 2022xkd ... 2022-10-12 23:08:31 2022-10-12 23:08:31\n",
       "117983          AT 2022xkc ... 2022-10-12 23:08:13 2022-10-12 23:08:13\n",
       "117982          AT 2022xkb ... 2022-10-12 23:08:03 2022-10-12 23:08:03\n",
       "117981          AT 2022xka ... 2022-10-12 23:07:54 2022-10-12 23:07:54\n",
       "117980          AT 2022xjz ... 2022-10-12 23:07:49 2022-10-12 23:07:49\n",
       "117979          AT 2022xjy ... 2022-10-12 23:07:33 2022-10-12 23:07:33\n",
       "117978          AT 2022xjx ... 2022-10-12 23:07:20 2022-10-12 23:07:20\n",
       "117977          AT 2022xjw ... 2022-10-12 23:07:06 2022-10-12 23:07:06\n",
       "117976          AT 2022xjv ... 2022-10-12 23:07:01 2022-10-12 23:07:01\n",
       "117975          AT 2022xju ... 2022-10-12 23:06:47 2022-10-12 23:06:47\n",
       "   ...         ...     ... ...                 ...                 ...\n",
       "  6523          SN  2015an ... 2015-12-31 10:59:55 2015-12-31 10:59:55\n",
       "  6469          SN  2014dr ... 2015-12-31 10:59:55 2015-12-31 10:59:55\n",
       "  6436          SN  2014cl ... 2015-12-31 10:59:55 2015-12-31 10:59:55\n",
       "  6403          SN  2014bf ... 2015-12-31 10:59:55 2015-12-31 10:59:55\n",
       "  6336          SN  2013hj ... 2015-12-31 10:59:55 2015-12-31 10:59:55\n",
       "  6309          SN  2013gj ... 2015-12-31 10:59:55 2015-12-31 10:59:55\n",
       "  6201          SN  2013cj ... 2015-12-31 10:59:55 2015-12-31 10:59:55\n",
       "  6196          SN  2013ce ... 2015-12-31 10:59:55 2015-12-31 10:59:55\n",
       "  6158          SN  2013at ... 2015-12-31 10:59:55 2015-12-31 10:59:55\n",
       "  3962          SN  2006sa ... 2015-12-31 10:59:55 2015-12-31 10:59:55"
      ]
     },
     "execution_count": 3,
     "metadata": {},
     "output_type": "execute_result"
    }
   ],
   "source": [
    "SN_data = Table.read(\"tns_public_objects.csv\", format=\"ascii.csv\")\n",
    "SN_data"
   ]
  },
  {
   "cell_type": "code",
   "execution_count": 4,
   "metadata": {},
   "outputs": [
    {
     "name": "stderr",
     "output_type": "stream",
     "text": [
      "WARNING: ErfaWarning: ERFA function \"dtf2d\" yielded 2013 of \"dubious year (Note 6)\" [astropy._erfa.core]\n"
     ]
    }
   ],
   "source": [
    "# getting (ra, dec) position data for centres of NGTS images\n",
    "NGTS_positions = SkyCoord(NGTS_images[\"ra_centre\"], NGTS_images[\"dec_centre\"], unit='deg')\n",
    "Len = len(NGTS_positions)\n",
    "\n",
    "NGTS_times = Time(NGTS_images[\"start_time\"])"
   ]
  },
  {
   "cell_type": "code",
   "execution_count": 5,
   "metadata": {},
   "outputs": [
    {
     "name": "stderr",
     "output_type": "stream",
     "text": [
      "WARNING: ErfaWarning: ERFA function \"dtf2d\" yielded 16527 of \"dubious year (Note 6)\" [astropy._erfa.core]\n"
     ]
    }
   ],
   "source": [
    "# getting (ra, dec) position data for SN events in public TNS data\n",
    "SN_positions = SkyCoord(SN_data[\"ra\"], SN_data[\"declination\"], unit='deg')\n",
    "\n",
    "SN_mags = SN_data[\"discoverymag\"]\n",
    "SN_times = Time(SN_data[\"discoverydate\"])"
   ]
  },
  {
   "cell_type": "code",
   "execution_count": 35,
   "metadata": {},
   "outputs": [
    {
     "name": "stderr",
     "output_type": "stream",
     "text": [
      "WARNING: ErfaWarning: ERFA function \"utctai\" yielded 220 of \"dubious year (Note 3)\" [astropy._erfa.core]\n",
      "WARNING: ErfaWarning: ERFA function \"utctai\" yielded 1140 of \"dubious year (Note 3)\" [astropy._erfa.core]\n"
     ]
    },
    {
     "data": {
      "text/plain": [
       "7"
      ]
     },
     "execution_count": 35,
     "metadata": {},
     "output_type": "execute_result"
    }
   ],
   "source": [
    "# sep_constraint = 1.4 * np.sqrt(2) * u.deg\n",
    "sep_constraint = 1.4 * u.deg\n",
    "# NGTS camera have a field of view: 2.8 deg x 2.8 deg\n",
    "# radius chosen to cover the entire field of view\n",
    "\n",
    "mag_constraint = 15\n",
    "# magnitude constraint chosen to be the magnitude of the lowest magnitude (brightest) star identified by the Gaia DR2 survey\n",
    "# not visible to the NGTS survey\n",
    "\n",
    "# getting closest SN object to each NGTS image centre\n",
    "SN_idx, NGTS_idx, separations, _ = NGTS_positions.search_around_sky(SN_positions, seplimit=sep_constraint)\n",
    "\n",
    "\n",
    "# filter out SN with brightnesses too low to be observable\n",
    "mag_mask = SN_mags[SN_idx] < mag_constraint\n",
    "\n",
    "SN_idx = SN_idx[mag_mask]\n",
    "NGTS_idx = NGTS_idx[mag_mask]\n",
    "separations = separations[mag_mask]\n",
    "\n",
    "# getting time intervals to filter\n",
    "intervals = NGTS_times[NGTS_idx] - SN_times[SN_idx]\n",
    "# filter out SN observed more than 1 days before the NGTS image was taken, and SN observed more than 2 days after\n",
    "tm1 = intervals > -1 * u.day\n",
    "tm2 = intervals < 1 * u.day\n",
    "\n",
    "time_mask = np.logical_and(tm1, tm2)\n",
    "\n",
    "SN_idx = SN_idx[time_mask]\n",
    "NGTS_idx = NGTS_idx[time_mask]\n",
    "separations = separations[time_mask]\n",
    "L = len(separations)\n",
    "L"
   ]
  },
  {
   "cell_type": "code",
   "execution_count": 36,
   "metadata": {
    "scrolled": false
   },
   "outputs": [
    {
     "name": "stdout",
     "output_type": "stream",
     "text": [
      "10212\n",
      "<SkyCoord (ICRS): (ra, dec) in deg\n",
      "    (322.85715, -8.4375)>\n",
      "2017-09-21T23:39:57.000\n",
      "\n",
      "\n",
      "51996\n",
      "<SkyCoord (ICRS): (ra, dec) in deg\n",
      "    (322.460875, -7.994581)>\n",
      "2017-09-22 11:23:33.400\n",
      "\n",
      "\n",
      "\n",
      "\n",
      "10237\n",
      "<SkyCoord (ICRS): (ra, dec) in deg\n",
      "    (322.85715, -8.4375)>\n",
      "2017-09-22T23:40:21.000\n",
      "\n",
      "\n",
      "51996\n",
      "<SkyCoord (ICRS): (ra, dec) in deg\n",
      "    (322.460875, -7.994581)>\n",
      "2017-09-22 11:23:33.400\n",
      "\n",
      "\n",
      "\n",
      "\n",
      "24800\n",
      "<SkyCoord (ICRS): (ra, dec) in deg\n",
      "    (136.8595, -19.6875)>\n",
      "2019-12-06T04:30:55.000\n",
      "\n",
      "\n",
      "66889\n",
      "<SkyCoord (ICRS): (ra, dec) in deg\n",
      "    (137.57275, -20.136861)>\n",
      "2019-12-06 22:20:38.000\n",
      "\n",
      "\n",
      "\n",
      "\n",
      "24826\n",
      "<SkyCoord (ICRS): (ra, dec) in deg\n",
      "    (136.8595, -19.6875)>\n",
      "2019-12-07T04:26:39.000\n",
      "\n",
      "\n",
      "66889\n",
      "<SkyCoord (ICRS): (ra, dec) in deg\n",
      "    (137.57275, -20.136861)>\n",
      "2019-12-06 22:20:38.000\n",
      "\n",
      "\n",
      "\n",
      "\n",
      "12191\n",
      "<SkyCoord (ICRS): (ra, dec) in deg\n",
      "    (76.15385, -36.5625)>\n",
      "2018-01-20T00:45:03.000\n",
      "\n",
      "\n",
      "90401\n",
      "<SkyCoord (ICRS): (ra, dec) in deg\n",
      "    (76.75599, -35.92047)>\n",
      "2018-01-20 03:07:12.000\n",
      "\n",
      "\n",
      "\n",
      "\n",
      "12214\n",
      "<SkyCoord (ICRS): (ra, dec) in deg\n",
      "    (76.15385, -36.5625)>\n",
      "2018-01-21T00:44:43.000\n",
      "\n",
      "\n",
      "90401\n",
      "<SkyCoord (ICRS): (ra, dec) in deg\n",
      "    (76.75599, -35.92047)>\n",
      "2018-01-20 03:07:12.000\n",
      "\n",
      "\n",
      "\n",
      "\n",
      "12234\n",
      "<SkyCoord (ICRS): (ra, dec) in deg\n",
      "    (76.15385, -36.5625)>\n",
      "2018-01-21T02:36:00.000\n",
      "\n",
      "\n",
      "90401\n",
      "<SkyCoord (ICRS): (ra, dec) in deg\n",
      "    (76.75599, -35.92047)>\n",
      "2018-01-20 03:07:12.000\n",
      "\n",
      "\n",
      "\n",
      "\n"
     ]
    }
   ],
   "source": [
    "for i in range(L):\n",
    "    print(NGTS_idx[i])\n",
    "    print(NGTS_positions[NGTS_idx[i]])\n",
    "    print(NGTS_times[NGTS_idx[i]])\n",
    "    print('\\n')\n",
    "    print(SN_idx[i])\n",
    "    print(SN_positions[SN_idx[i]])\n",
    "    print(SN_times[SN_idx[i]])\n",
    "    print('\\n')\n",
    "    print('\\n')"
   ]
  },
  {
   "cell_type": "code",
   "execution_count": 39,
   "metadata": {
    "scrolled": true
   },
   "outputs": [
    {
     "name": "stdout",
     "output_type": "stream",
     "text": [
      "2022jev\n",
      "2018-01-20T00:45:03.000\n",
      "2018-01-19T00:45:21.000\n"
     ]
    }
   ],
   "source": [
    "names = SN_data['name']\n",
    "print(names[10212])\n",
    "print(NGTS_times[12191])\n",
    "print(NGTS_times[12171])"
   ]
  },
  {
   "cell_type": "code",
   "execution_count": 9,
   "metadata": {},
   "outputs": [
    {
     "data": {
      "text/html": [
       "<i>Row index=12191</i>\n",
       "<table id=\"table140670279837584\">\n",
       "<thead><tr><th>field_id</th><th>night</th><th>camera_id</th><th>start_time</th><th>end_time</th><th>n_image</th><th>ra_centre</th><th>dec_centre</th></tr></thead>\n",
       "<thead><tr><th>str12</th><th>str10</th><th>int64</th><th>str19</th><th>str19</th><th>int64</th><th>float64</th><th>float64</th></tr></thead>\n",
       "<tr><td>NG0504-3633</td><td>2018-01-19</td><td>806</td><td>2018-01-20T00:45:03</td><td>2018-01-20T05:12:59</td><td>1244</td><td>76.15385</td><td>-36.5625</td></tr>\n",
       "</table>"
      ],
      "text/plain": [
       "<Row index=12191>\n",
       "  field_id    night    camera_id      start_time           end_time      n_image ra_centre dec_centre\n",
       "   str12      str10      int64          str19               str19         int64   float64   float64  \n",
       "----------- ---------- --------- ------------------- ------------------- ------- --------- ----------\n",
       "NG0504-3633 2018-01-19       806 2018-01-20T00:45:03 2018-01-20T05:12:59    1244  76.15385   -36.5625"
      ]
     },
     "execution_count": 9,
     "metadata": {},
     "output_type": "execute_result"
    }
   ],
   "source": [
    "NGTS_images[12191]"
   ]
  },
  {
   "cell_type": "code",
   "execution_count": null,
   "metadata": {},
   "outputs": [],
   "source": []
  }
 ],
 "metadata": {
  "kernelspec": {
   "display_name": "Python 3",
   "language": "python",
   "name": "python3"
  },
  "language_info": {
   "codemirror_mode": {
    "name": "ipython",
    "version": 3
   },
   "file_extension": ".py",
   "mimetype": "text/x-python",
   "name": "python",
   "nbconvert_exporter": "python",
   "pygments_lexer": "ipython3",
   "version": "3.7.4"
  }
 },
 "nbformat": 4,
 "nbformat_minor": 5
}
