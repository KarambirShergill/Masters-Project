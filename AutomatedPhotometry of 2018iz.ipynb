{
 "cells": [
  {
   "cell_type": "code",
   "execution_count": null,
   "metadata": {},
   "outputs": [],
   "source": [
    "import os\n",
    "import time\n",
    "import matplotlib\n",
    "matplotlib.use('TkAgg')\n",
    "import matplotlib.pyplot as plt\n",
    "import numpy as np\n",
    "from astropy import units as u\n",
    "from astropy.time import Time\n",
    "from astropy.table import Table, QTable\n",
    "from ngts.NGTS_image import NGTS_image"
   ]
  },
  {
   "cell_type": "code",
   "execution_count": null,
   "metadata": {},
   "outputs": [],
   "source": [
    "date = \"2018-01-19\"\n",
    "\n",
    "base_path = \"/Users/XKARAN3135X/Project Data/2018iz\"\n",
    "#drive_path = f\"D:/transients/NG0907-1941_{date}\" # USB\n",
    "drive_path = f\"/Users/XKARAN3135X/Project Term 2/NGTS Extra Images/NG0504-3633_{date}\" # on PC\n",
    "ref_image_path = base_path + \"/NG0504-3633_806_IMAGE80620170816093554_wcs.fits\"\n",
    "ref_catalogue = base_path + \"/NG0504-3633_806_IMAGE80620170816093554_cat.fits\"\n",
    "\n",
    "reference_image = NGTS_image(ref_image_path)\n",
    "# first coordinates are for the star of interest, any subsequent coordinates are for stars to be used for relative photometry\n",
    "ra = [76.75599, 77.09055, 77.12987, 76.53763, 76.68442, 76.33802]\n",
    "dec = [-35.92047, -36.15683, -35.681996, -35.99590, -35.67732, -35.67346]\n",
    "#ra = [76.75599,]\n",
    "#dec = [-35.92047,]\n",
    "num_comparison_stars = len(ra)-1\n",
    "\n",
    "img_files = drive_path\n",
    "num_images = len(os.listdir(img_files))-2\n",
    "\n",
    "x, y = reference_image.tweaked_WCS.all_world2pix(ra[0], dec[0], 0)\n",
    "\n",
    "# data_rows = []\n",
    "print(num_images)"
   ]
  },
  {
   "cell_type": "code",
   "execution_count": null,
   "metadata": {},
   "outputs": [],
   "source": [
    "# find the optimum photometry aperture using the SNR\n",
    "apertures = np.arange(0.5, 2, 0.1)\n",
    "SNRs = []\n",
    "\n",
    "test_img = os.fsdecode(os.listdir(img_files)[len(os.listdir(img_files))//3]) # pick an image 1/3rd the way through the directory\n",
    "analysis_img_path = os.path.join(drive_path, test_img)\n",
    "    \n",
    "ni = NGTS_image(analysis_img_path)\n",
    "ni.determine_sky_background()\n",
    "ni.tweak_wcs(reference_image.tweaked_WCS, ref_catalogue, use_reference_wcs=True)\n",
    "\n",
    "# perform photometry using multiple aperture sizes\n",
    "phot = ni.extract_photometry(RA=ra, Dec=dec, apertures=apertures, use_centroids=False)"
   ]
  },
  {
   "cell_type": "code",
   "execution_count": null,
   "metadata": {},
   "outputs": [],
   "source": [
    "# calculate the SNR for each aperture\n",
    "for radius in apertures:\n",
    "    r = str(round(radius, 1))\n",
    "    flux_column = 'FLUX_%s' % r\n",
    "    err_column = 'FLUX_ERR_%s' % r\n",
    "    flux = phot[flux_column][0]\n",
    "    error = phot[err_column][0]\n",
    "    SNRs.append(flux/error)\n",
    "\n",
    "\n",
    "plt.plot(apertures, SNRs)\n",
    "plt.show()\n",
    "\n",
    "max_SNR_idex = np.argmax(SNRs)\n",
    "radius = apertures[max_SNR_idex]\n",
    "r = str(round(radius, 1))\n",
    "print(radius)  # aperture radius with the largest SNR"
   ]
  },
  {
   "cell_type": "code",
   "execution_count": null,
   "metadata": {
    "scrolled": true
   },
   "outputs": [],
   "source": [
    "# set up .csv file\n",
    "csv = f\"2018iz_photometry_data_rerun_{date}.csv\"\n",
    "f = open(csv, 'w')\n",
    "csvtxt = \"Time,Flux,Flux_err,Bkg,Bkg_err,\"\n",
    "for j in range(num_comparison_stars):\n",
    "    csvtxt += \",compare{n}_flux,compare{n}_error\".format(n=j+1)  # add in column for comparison star photometry\n",
    "csvtxt+='\\n'\n",
    "f.write(csvtxt)\n",
    "f.close()\n",
    "f = open(csv, 'a')\n",
    "\n",
    "Dt_list = []\n",
    "\n",
    "# loop through all images and perform photometry on all objects listed by coordinates in ra and dec\n",
    "i=1\n",
    "for file in os.listdir(img_files):\n",
    "    \n",
    "    t1 = time.time()\n",
    "    \n",
    "    filename = os.fsdecode(file)\n",
    "    if not filename.startswith(\"IMAGE\"):  # check for image file\n",
    "        continue\n",
    "    \n",
    "    analysis_img_path = os.path.join(drive_path, filename)\n",
    "    \n",
    "    ni = NGTS_image(analysis_img_path)\n",
    "    ni.determine_sky_background()\n",
    "    ni.tweak_wcs(reference_image.tweaked_WCS, ref_catalogue, use_reference_wcs=True)\n",
    "\n",
    "    # calculate local times of observation for making light curve\n",
    "    JD, BJD, HJD, Hltt, Bltt = ni.MJD_to_JD_HJD(RA=ra, Dec=dec, get_light_travel_times=False)\n",
    "\n",
    "    # perform photometry\n",
    "    phot = ni.extract_photometry(RA=ra, Dec=dec, apertures=radius, use_centroids=False)\n",
    "\n",
    "#     data_rows.append((Time(BJD[0], format='jd'), \n",
    "#                       phot['FLUX_2.3'][0] * u.ct, phot['FLUX_ERR_2.3'][0] * u.ct,\n",
    "#                       phot['FLUX_BKG_2.3'][0] * u.ct, phot['FLUX_ERR_BKG_2.3'][0] * u.ct))\n",
    "\n",
    "    # fill in row of .csv file\n",
    "    csvtxt = str(BJD[0]) + ',' + str(phot['FLUX_%s' % r][0]) + ',' + str(phot['FLUX_ERR_%s' % r][0]) + ',' + str(phot['FLUX_BKG_%s' % r][0]) + ',' + str(phot['FLUX_ERR_BKG_%s' % r][0]) + ','\n",
    "    \n",
    "    print(phot['FLUX_%s' % r][0])\n",
    "    \n",
    "    for j in range(num_comparison_stars):\n",
    "        csvtxt += ',' + str(phot['FLUX_%s' % r][j+1]) + ',' + str(phot['FLUX_ERR_%s' % r][j+1])\n",
    "    \n",
    "    csvtxt+='\\n'\n",
    "    f.write(csvtxt)\n",
    "    \n",
    "    t2 = time.time()\n",
    "    Dt_list.append(t2 - t1)\n",
    "    if len(Dt_list) > 20:\n",
    "        Dt_list.pop(0)\n",
    "    average_time_per_image = np.sum(Dt_list) / len(Dt_list)\n",
    "    time_remaining = average_time_per_image * (num_images-i)\n",
    "    \n",
    "    print('analysed ' + str(i) + '/%s images' % num_images)\n",
    "    print(f'Estimated time remaining: {round(time_remaining/60, 1)} minutes')\n",
    "    i+=1\n",
    "\n",
    "f.close()"
   ]
  },
  {
   "cell_type": "code",
   "execution_count": null,
   "metadata": {},
   "outputs": [],
   "source": [
    "# make a plot\n",
    "fig, ax = ni.plot_image()\n",
    "ni.plot_apertures(RA=ra, Dec=dec, ax=ax, radius=radius)\n",
    "ax.set_ylim(y-100, y-100)\n",
    "ax.set_xlim(x-100, x-100)\n",
    "#plt.savefig(\"check.png\")\n",
    "plt.show()"
   ]
  },
  {
   "cell_type": "code",
   "execution_count": null,
   "metadata": {},
   "outputs": [],
   "source": [
    "# timeseries = QTable(rows=data_rows, names=('Time', 'Flux', 'Flux_err', 'Bkg', 'Bkg_err'))\n",
    "# t = Time(BJD[0], format='jd')\n",
    "# t.format = 'ymdhms'\n",
    "# print(t)\n",
    "# timeseries\n",
    "f.close()"
   ]
  },
  {
   "cell_type": "code",
   "execution_count": null,
   "metadata": {},
   "outputs": [],
   "source": []
  },
  {
   "cell_type": "code",
   "execution_count": null,
   "metadata": {},
   "outputs": [],
   "source": []
  }
 ],
 "metadata": {
  "kernelspec": {
   "display_name": "Python 3",
   "language": "python",
   "name": "python3"
  },
  "language_info": {
   "codemirror_mode": {
    "name": "ipython",
    "version": 3
   },
   "file_extension": ".py",
   "mimetype": "text/x-python",
   "name": "python",
   "nbconvert_exporter": "python",
   "pygments_lexer": "ipython3",
   "version": "3.7.4"
  }
 },
 "nbformat": 4,
 "nbformat_minor": 5
}
